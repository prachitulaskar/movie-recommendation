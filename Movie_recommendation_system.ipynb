{
 "cells": [
  {
   "cell_type": "code",
   "execution_count": 2,
   "id": "842bdde4-f63b-47fb-9f8c-6289a48fbfc9",
   "metadata": {},
   "outputs": [],
   "source": [
    "import pandas as pd\n",
    "from sklearn.feature_extraction.text import TfidfVectorizer\n",
    "from sklearn.metrics.pairwise import cosine_similarity\n"
   ]
  },
  {
   "cell_type": "code",
   "execution_count": 3,
   "id": "0fa2bd3a-de3c-43fe-81c4-2e2b59754cf3",
   "metadata": {},
   "outputs": [
    {
     "name": "stdout",
     "output_type": "stream",
     "text": [
      "✅ movies.csv file created!\n"
     ]
    }
   ],
   "source": [
    "import pandas as pd\n",
    "\n",
    "# Sample movie dataset\n",
    "data = {\n",
    "    'title': [\n",
    "        'The Dark Knight', 'Batman Begins', 'The Avengers',\n",
    "        'Iron Man', 'Captain America: The First Avenger',\n",
    "        'Man of Steel', 'Thor', 'Wonder Woman', 'Doctor Strange',\n",
    "        'Guardians of the Galaxy'\n",
    "    ],\n",
    "    'genres': [\n",
    "        'Action Crime Drama', 'Action Crime', 'Action Adventure Sci-Fi',\n",
    "        'Action Sci-Fi', 'Action Adventure Sci-Fi',\n",
    "        'Action Adventure Sci-Fi', 'Action Fantasy',\n",
    "        'Action Fantasy', 'Action Adventure Fantasy',\n",
    "        'Action Adventure Sci-Fi'\n",
    "    ],\n",
    "    'overview': [\n",
    "        'Batman raises the stakes in his war on crime.',\n",
    "        'Bruce Wayne begins his journey as Batman.',\n",
    "        'Earth\\'s mightiest heroes must come together.',\n",
    "        'Tony Stark builds a high-tech suit to fight evil.',\n",
    "        'Steve Rogers becomes Captain America in World War II.',\n",
    "        'Superman faces his origins and destiny.',\n",
    "        'The powerful but arrogant god Thor is cast out.',\n",
    "        'An Amazonian warrior fights to end war.',\n",
    "        'A surgeon turns to mystic arts to heal.',\n",
    "        'A group of intergalactic criminals comes together.'\n",
    "    ]\n",
    "}\n",
    "\n",
    "df = pd.DataFrame(data)\n",
    "df.to_csv('movies.csv', index=False)\n",
    "\n",
    "print(\"✅ movies.csv file created!\")\n"
   ]
  },
  {
   "cell_type": "code",
   "execution_count": 4,
   "id": "2b0b6fef-f2b0-4b0c-8f9b-a01d70c2d58c",
   "metadata": {},
   "outputs": [
    {
     "data": {
      "text/html": [
       "<div>\n",
       "<style scoped>\n",
       "    .dataframe tbody tr th:only-of-type {\n",
       "        vertical-align: middle;\n",
       "    }\n",
       "\n",
       "    .dataframe tbody tr th {\n",
       "        vertical-align: top;\n",
       "    }\n",
       "\n",
       "    .dataframe thead th {\n",
       "        text-align: right;\n",
       "    }\n",
       "</style>\n",
       "<table border=\"1\" class=\"dataframe\">\n",
       "  <thead>\n",
       "    <tr style=\"text-align: right;\">\n",
       "      <th></th>\n",
       "      <th>title</th>\n",
       "      <th>genres</th>\n",
       "      <th>overview</th>\n",
       "    </tr>\n",
       "  </thead>\n",
       "  <tbody>\n",
       "    <tr>\n",
       "      <th>0</th>\n",
       "      <td>The Dark Knight</td>\n",
       "      <td>Action Crime Drama</td>\n",
       "      <td>Batman raises the stakes in his war on crime.</td>\n",
       "    </tr>\n",
       "    <tr>\n",
       "      <th>1</th>\n",
       "      <td>Batman Begins</td>\n",
       "      <td>Action Crime</td>\n",
       "      <td>Bruce Wayne begins his journey as Batman.</td>\n",
       "    </tr>\n",
       "    <tr>\n",
       "      <th>2</th>\n",
       "      <td>The Avengers</td>\n",
       "      <td>Action Adventure Sci-Fi</td>\n",
       "      <td>Earth's mightiest heroes must come together.</td>\n",
       "    </tr>\n",
       "    <tr>\n",
       "      <th>3</th>\n",
       "      <td>Iron Man</td>\n",
       "      <td>Action Sci-Fi</td>\n",
       "      <td>Tony Stark builds a high-tech suit to fight evil.</td>\n",
       "    </tr>\n",
       "    <tr>\n",
       "      <th>4</th>\n",
       "      <td>Captain America: The First Avenger</td>\n",
       "      <td>Action Adventure Sci-Fi</td>\n",
       "      <td>Steve Rogers becomes Captain America in World ...</td>\n",
       "    </tr>\n",
       "  </tbody>\n",
       "</table>\n",
       "</div>"
      ],
      "text/plain": [
       "                                title                   genres  \\\n",
       "0                     The Dark Knight       Action Crime Drama   \n",
       "1                       Batman Begins             Action Crime   \n",
       "2                        The Avengers  Action Adventure Sci-Fi   \n",
       "3                            Iron Man            Action Sci-Fi   \n",
       "4  Captain America: The First Avenger  Action Adventure Sci-Fi   \n",
       "\n",
       "                                            overview  \n",
       "0      Batman raises the stakes in his war on crime.  \n",
       "1          Bruce Wayne begins his journey as Batman.  \n",
       "2       Earth's mightiest heroes must come together.  \n",
       "3  Tony Stark builds a high-tech suit to fight evil.  \n",
       "4  Steve Rogers becomes Captain America in World ...  "
      ]
     },
     "execution_count": 4,
     "metadata": {},
     "output_type": "execute_result"
    }
   ],
   "source": [
    "df = pd.read_csv('movies.csv')\n",
    "df.head()\n"
   ]
  },
  {
   "cell_type": "code",
   "execution_count": 5,
   "id": "757b6e70-87d4-436f-b63c-06f9a79e9e38",
   "metadata": {},
   "outputs": [],
   "source": [
    "from sklearn.feature_extraction.text import TfidfVectorizer\n",
    "from sklearn.metrics.pairwise import cosine_similarity\n"
   ]
  },
  {
   "cell_type": "code",
   "execution_count": 6,
   "id": "61ec049d-6717-42b1-9ce3-d9a328195409",
   "metadata": {},
   "outputs": [],
   "source": [
    "df['overview'] = df['overview'].fillna('')\n"
   ]
  },
  {
   "cell_type": "code",
   "execution_count": 7,
   "id": "ad879551-ed31-46e2-a35d-0d3051f9034b",
   "metadata": {},
   "outputs": [],
   "source": [
    "tfidf = TfidfVectorizer(stop_words='english')\n",
    "tfidf_matrix = tfidf.fit_transform(df['overview'])\n"
   ]
  },
  {
   "cell_type": "code",
   "execution_count": 8,
   "id": "7eb5a545-0169-41f3-be1c-572f98fcb561",
   "metadata": {},
   "outputs": [],
   "source": [
    "cosine_sim = cosine_similarity(tfidf_matrix, tfidf_matrix)\n"
   ]
  },
  {
   "cell_type": "code",
   "execution_count": 9,
   "id": "b51f9f6a-9087-4de3-9cec-9e56681e10aa",
   "metadata": {},
   "outputs": [],
   "source": [
    "indices = pd.Series(df.index, index=df['title'])\n"
   ]
  },
  {
   "cell_type": "code",
   "execution_count": 10,
   "id": "4ba51040-c6c6-48da-a60c-36a0042ddb31",
   "metadata": {},
   "outputs": [],
   "source": [
    "def recommend_movie(title, cosine_sim=cosine_sim):\n",
    "    idx = indices[title]  # index of the movie\n",
    "    sim_scores = list(enumerate(cosine_sim[idx]))  # similarity scores\n",
    "    sim_scores = sorted(sim_scores, key=lambda x: x[1], reverse=True)  # sort\n",
    "    sim_scores = sim_scores[1:6]  # top 5 similar\n",
    "    movie_indices = [i[0] for i in sim_scores]\n",
    "    return df['title'].iloc[movie_indices]\n"
   ]
  }
 ],
 "metadata": {
  "kernelspec": {
   "display_name": "Python 3 (ipykernel)",
   "language": "python",
   "name": "python3"
  },
  "language_info": {
   "codemirror_mode": {
    "name": "ipython",
    "version": 3
   },
   "file_extension": ".py",
   "mimetype": "text/x-python",
   "name": "python",
   "nbconvert_exporter": "python",
   "pygments_lexer": "ipython3",
   "version": "3.13.5"
  }
 },
 "nbformat": 4,
 "nbformat_minor": 5
}
